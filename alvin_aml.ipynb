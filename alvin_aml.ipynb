{
 "cells": [
  {
   "cell_type": "markdown",
   "metadata": {},
   "source": [
    "# Reading in Data"
   ]
  },
  {
   "cell_type": "code",
   "execution_count": 1,
   "metadata": {},
   "outputs": [
    {
     "name": "stderr",
     "output_type": "stream",
     "text": [
      "Installing package into 'C:/Users/favia/OneDrive/Documents/R/win-library/3.5'\n",
      "(as 'lib' is unspecified)\n"
     ]
    },
    {
     "name": "stdout",
     "output_type": "stream",
     "text": [
      "package 'rpart' successfully unpacked and MD5 sums checked\n"
     ]
    },
    {
     "name": "stderr",
     "output_type": "stream",
     "text": [
      "Warning message:\n",
      "\"cannot remove prior installation of package 'rpart'\""
     ]
    },
    {
     "name": "stdout",
     "output_type": "stream",
     "text": [
      "\n",
      "The downloaded binary packages are in\n",
      "\tC:\\Users\\favia\\AppData\\Local\\Temp\\RtmpEZsASi\\downloaded_packages\n"
     ]
    },
    {
     "name": "stderr",
     "output_type": "stream",
     "text": [
      "Installing package into 'C:/Users/favia/OneDrive/Documents/R/win-library/3.5'\n",
      "(as 'lib' is unspecified)\n"
     ]
    },
    {
     "name": "stdout",
     "output_type": "stream",
     "text": [
      "package 'rpart.plot' successfully unpacked and MD5 sums checked\n",
      "\n",
      "The downloaded binary packages are in\n",
      "\tC:\\Users\\favia\\AppData\\Local\\Temp\\RtmpEZsASi\\downloaded_packages\n"
     ]
    }
   ],
   "source": [
    "aml.clinical <- read.csv('./AML_clinical_parsed.csv')\n",
    "aml.clinical$Risk.group <- as.factor(aml.clinical$Risk.group)\n",
    "\n",
    "expn.de <- read.csv('./AML_Expression_Subset_DE.csv', header=TRUE)\n",
    "dimnames(expn.de)[[1]] <- expn.de[,1]\n",
    "expn.de <- expn.de[, -1]\n",
    "\n",
    "expn <- read.csv('./AML_Expression_Subset.csv', header=TRUE)\n",
    "dimnames(expn)[[1]] <- expn[,1]\n",
    "expn <- expn[, -1]\n",
    "expn <- expn[, colnames(expn) %in% colnames(expn.de)]\n",
    "\n",
    "install.packages(\"rpart\")\n",
    "install.packages(\"rpart.plot\")"
   ]
  },
  {
   "cell_type": "code",
   "execution_count": 2,
   "metadata": {},
   "outputs": [
    {
     "data": {
      "text/html": [
       "<table>\n",
       "<thead><tr><th scope=col>X</th><th scope=col>TARGET.USI</th><th scope=col>Gender</th><th scope=col>Race</th><th scope=col>Ethnicity</th><th scope=col>Age.at.Diagnosis.in.Days</th><th scope=col>First.Event</th><th scope=col>Event.Free.Survival.Time.in.Days</th><th scope=col>Vital.Status</th><th scope=col>Overall.Survival.Time.in.Days</th><th scope=col>...</th><th scope=col>access</th><th scope=col>state</th><th scope=col>data_category</th><th scope=col>type</th><th scope=col>experimental_strategy</th><th scope=col>project.project_id</th><th scope=col>entity_id</th><th scope=col>case_id</th><th scope=col>entity_submitter_id</th><th scope=col>entity_type</th></tr></thead>\n",
       "<tbody>\n",
       "\t<tr><td> 0                                  </td><td>TARGET-20-PABLDZ                    </td><td>Female                              </td><td>White                               </td><td>Not Hispanic or Latino              </td><td>2455                                </td><td>Relapse                             </td><td>714                                 </td><td>Alive                               </td><td> 721                                </td><td>...                                 </td><td>open                                </td><td>released                            </td><td>Transcriptome Profiling             </td><td>gene_expression                     </td><td>RNA-Seq                             </td><td>TARGET-AML                          </td><td>c78f2949-4050-5f14-a401-beddf3ff9f61</td><td>1e5c8323-383d-51a0-9199-1b9504b29c7e</td><td>TARGET-20-PABLDZ-04A-01R            </td><td>aliquot                             </td></tr>\n",
       "\t<tr><td> 3                                  </td><td>TARGET-20-PADZCG                    </td><td>Female                              </td><td>Unknown                             </td><td>Not Hispanic or Latino              </td><td>5325                                </td><td>Relapse                             </td><td>314                                 </td><td>Dead                                </td><td> 536                                </td><td>...                                 </td><td>open                                </td><td>released                            </td><td>Transcriptome Profiling             </td><td>gene_expression                     </td><td>RNA-Seq                             </td><td>TARGET-AML                          </td><td>1507ac24-8ba2-5e57-a05a-86b5157c8377</td><td>c3670ebd-1d43-5491-ac10-a158e12c560b</td><td>TARGET-20-PADZCG-09A-02R            </td><td>aliquot                             </td></tr>\n",
       "\t<tr><td> 5                                  </td><td>TARGET-20-PAEAKL                    </td><td>Female                              </td><td>Black or African American           </td><td>Not Hispanic or Latino              </td><td>5218                                </td><td>Relapse                             </td><td>134                                 </td><td>Dead                                </td><td> 163                                </td><td>...                                 </td><td>open                                </td><td>released                            </td><td>Transcriptome Profiling             </td><td>gene_expression                     </td><td>RNA-Seq                             </td><td>TARGET-AML                          </td><td>9d464669-4fa5-5c48-b1b0-f452bee4682e</td><td>55d8f714-482f-50cf-8a23-7d187c31f923</td><td>TARGET-20-PAEAKL-09A-03R            </td><td>aliquot                             </td></tr>\n",
       "\t<tr><td> 7                                  </td><td>TARGET-20-PAEDKB                    </td><td>Male                                </td><td>White                               </td><td>Not Hispanic or Latino              </td><td> 815                                </td><td>Relapse                             </td><td>419                                 </td><td>Dead                                </td><td> 800                                </td><td>...                                 </td><td>open                                </td><td>released                            </td><td>Transcriptome Profiling             </td><td>gene_expression                     </td><td>RNA-Seq                             </td><td>TARGET-AML                          </td><td>dcc4d9f2-0f77-58ce-8064-f6e12bffa5e7</td><td>84200a3f-e28c-5352-a320-30a43985e8c9</td><td>TARGET-20-PAEDKB-04A-01R            </td><td>aliquot                             </td></tr>\n",
       "\t<tr><td> 8                                  </td><td>TARGET-20-PAEERJ                    </td><td>Female                              </td><td>White                               </td><td>Not Hispanic or Latino              </td><td>5082                                </td><td>Relapse                             </td><td>259                                 </td><td>Dead                                </td><td> 373                                </td><td>...                                 </td><td>open                                </td><td>released                            </td><td>Transcriptome Profiling             </td><td>gene_expression                     </td><td>RNA-Seq                             </td><td>TARGET-AML                          </td><td>d3e1f044-8745-56e9-a05e-dc95d94dd899</td><td>665b2a36-1c80-5a53-824f-dda03c2a0d49</td><td>TARGET-20-PAEERJ-04A-01R            </td><td>aliquot                             </td></tr>\n",
       "\t<tr><td>10                                  </td><td>TARGET-20-PAEFGR                    </td><td>Female                              </td><td>White                               </td><td>Not Hispanic or Latino              </td><td> 549                                </td><td>Relapse                             </td><td>497                                 </td><td>Alive                               </td><td>4022                                </td><td>...                                 </td><td>open                                </td><td>released                            </td><td>Transcriptome Profiling             </td><td>gene_expression                     </td><td>RNA-Seq                             </td><td>TARGET-AML                          </td><td>4af4a340-d9c2-5a84-8f1b-c46fdc831ea0</td><td>edc9d8d7-af53-5e63-aa24-ceeccc24e8b6</td><td>TARGET-20-PAEFGR-09A-02R            </td><td>aliquot                             </td></tr>\n",
       "</tbody>\n",
       "</table>\n"
      ],
      "text/latex": [
       "\\begin{tabular}{r|llllllllllllllllllllllllllllllllllllllllllllllllllllllllllllllllllllllllllllllllllll}\n",
       " X & TARGET.USI & Gender & Race & Ethnicity & Age.at.Diagnosis.in.Days & First.Event & Event.Free.Survival.Time.in.Days & Vital.Status & Overall.Survival.Time.in.Days & ... & access & state & data\\_category & type & experimental\\_strategy & project.project\\_id & entity\\_id & case\\_id & entity\\_submitter\\_id & entity\\_type\\\\\n",
       "\\hline\n",
       "\t  0                                   & TARGET-20-PABLDZ                     & Female                               & White                                & Not Hispanic or Latino               & 2455                                 & Relapse                              & 714                                  & Alive                                &  721                                 & ...                                  & open                                 & released                             & Transcriptome Profiling              & gene\\_expression                    & RNA-Seq                              & TARGET-AML                           & c78f2949-4050-5f14-a401-beddf3ff9f61 & 1e5c8323-383d-51a0-9199-1b9504b29c7e & TARGET-20-PABLDZ-04A-01R             & aliquot                             \\\\\n",
       "\t  3                                   & TARGET-20-PADZCG                     & Female                               & Unknown                              & Not Hispanic or Latino               & 5325                                 & Relapse                              & 314                                  & Dead                                 &  536                                 & ...                                  & open                                 & released                             & Transcriptome Profiling              & gene\\_expression                    & RNA-Seq                              & TARGET-AML                           & 1507ac24-8ba2-5e57-a05a-86b5157c8377 & c3670ebd-1d43-5491-ac10-a158e12c560b & TARGET-20-PADZCG-09A-02R             & aliquot                             \\\\\n",
       "\t  5                                   & TARGET-20-PAEAKL                     & Female                               & Black or African American            & Not Hispanic or Latino               & 5218                                 & Relapse                              & 134                                  & Dead                                 &  163                                 & ...                                  & open                                 & released                             & Transcriptome Profiling              & gene\\_expression                    & RNA-Seq                              & TARGET-AML                           & 9d464669-4fa5-5c48-b1b0-f452bee4682e & 55d8f714-482f-50cf-8a23-7d187c31f923 & TARGET-20-PAEAKL-09A-03R             & aliquot                             \\\\\n",
       "\t  7                                   & TARGET-20-PAEDKB                     & Male                                 & White                                & Not Hispanic or Latino               &  815                                 & Relapse                              & 419                                  & Dead                                 &  800                                 & ...                                  & open                                 & released                             & Transcriptome Profiling              & gene\\_expression                    & RNA-Seq                              & TARGET-AML                           & dcc4d9f2-0f77-58ce-8064-f6e12bffa5e7 & 84200a3f-e28c-5352-a320-30a43985e8c9 & TARGET-20-PAEDKB-04A-01R             & aliquot                             \\\\\n",
       "\t  8                                   & TARGET-20-PAEERJ                     & Female                               & White                                & Not Hispanic or Latino               & 5082                                 & Relapse                              & 259                                  & Dead                                 &  373                                 & ...                                  & open                                 & released                             & Transcriptome Profiling              & gene\\_expression                    & RNA-Seq                              & TARGET-AML                           & d3e1f044-8745-56e9-a05e-dc95d94dd899 & 665b2a36-1c80-5a53-824f-dda03c2a0d49 & TARGET-20-PAEERJ-04A-01R             & aliquot                             \\\\\n",
       "\t 10                                   & TARGET-20-PAEFGR                     & Female                               & White                                & Not Hispanic or Latino               &  549                                 & Relapse                              & 497                                  & Alive                                & 4022                                 & ...                                  & open                                 & released                             & Transcriptome Profiling              & gene\\_expression                    & RNA-Seq                              & TARGET-AML                           & 4af4a340-d9c2-5a84-8f1b-c46fdc831ea0 & edc9d8d7-af53-5e63-aa24-ceeccc24e8b6 & TARGET-20-PAEFGR-09A-02R             & aliquot                             \\\\\n",
       "\\end{tabular}\n"
      ],
      "text/markdown": [
       "\n",
       "| X | TARGET.USI | Gender | Race | Ethnicity | Age.at.Diagnosis.in.Days | First.Event | Event.Free.Survival.Time.in.Days | Vital.Status | Overall.Survival.Time.in.Days | ... | access | state | data_category | type | experimental_strategy | project.project_id | entity_id | case_id | entity_submitter_id | entity_type |\n",
       "|---|---|---|---|---|---|---|---|---|---|---|---|---|---|---|---|---|---|---|---|---|\n",
       "|  0                                   | TARGET-20-PABLDZ                     | Female                               | White                                | Not Hispanic or Latino               | 2455                                 | Relapse                              | 714                                  | Alive                                |  721                                 | ...                                  | open                                 | released                             | Transcriptome Profiling              | gene_expression                      | RNA-Seq                              | TARGET-AML                           | c78f2949-4050-5f14-a401-beddf3ff9f61 | 1e5c8323-383d-51a0-9199-1b9504b29c7e | TARGET-20-PABLDZ-04A-01R             | aliquot                              |\n",
       "|  3                                   | TARGET-20-PADZCG                     | Female                               | Unknown                              | Not Hispanic or Latino               | 5325                                 | Relapse                              | 314                                  | Dead                                 |  536                                 | ...                                  | open                                 | released                             | Transcriptome Profiling              | gene_expression                      | RNA-Seq                              | TARGET-AML                           | 1507ac24-8ba2-5e57-a05a-86b5157c8377 | c3670ebd-1d43-5491-ac10-a158e12c560b | TARGET-20-PADZCG-09A-02R             | aliquot                              |\n",
       "|  5                                   | TARGET-20-PAEAKL                     | Female                               | Black or African American            | Not Hispanic or Latino               | 5218                                 | Relapse                              | 134                                  | Dead                                 |  163                                 | ...                                  | open                                 | released                             | Transcriptome Profiling              | gene_expression                      | RNA-Seq                              | TARGET-AML                           | 9d464669-4fa5-5c48-b1b0-f452bee4682e | 55d8f714-482f-50cf-8a23-7d187c31f923 | TARGET-20-PAEAKL-09A-03R             | aliquot                              |\n",
       "|  7                                   | TARGET-20-PAEDKB                     | Male                                 | White                                | Not Hispanic or Latino               |  815                                 | Relapse                              | 419                                  | Dead                                 |  800                                 | ...                                  | open                                 | released                             | Transcriptome Profiling              | gene_expression                      | RNA-Seq                              | TARGET-AML                           | dcc4d9f2-0f77-58ce-8064-f6e12bffa5e7 | 84200a3f-e28c-5352-a320-30a43985e8c9 | TARGET-20-PAEDKB-04A-01R             | aliquot                              |\n",
       "|  8                                   | TARGET-20-PAEERJ                     | Female                               | White                                | Not Hispanic or Latino               | 5082                                 | Relapse                              | 259                                  | Dead                                 |  373                                 | ...                                  | open                                 | released                             | Transcriptome Profiling              | gene_expression                      | RNA-Seq                              | TARGET-AML                           | d3e1f044-8745-56e9-a05e-dc95d94dd899 | 665b2a36-1c80-5a53-824f-dda03c2a0d49 | TARGET-20-PAEERJ-04A-01R             | aliquot                              |\n",
       "| 10                                   | TARGET-20-PAEFGR                     | Female                               | White                                | Not Hispanic or Latino               |  549                                 | Relapse                              | 497                                  | Alive                                | 4022                                 | ...                                  | open                                 | released                             | Transcriptome Profiling              | gene_expression                      | RNA-Seq                              | TARGET-AML                           | 4af4a340-d9c2-5a84-8f1b-c46fdc831ea0 | edc9d8d7-af53-5e63-aa24-ceeccc24e8b6 | TARGET-20-PAEFGR-09A-02R             | aliquot                              |\n",
       "\n"
      ],
      "text/plain": [
       "  X  TARGET.USI       Gender Race                      Ethnicity             \n",
       "1  0 TARGET-20-PABLDZ Female White                     Not Hispanic or Latino\n",
       "2  3 TARGET-20-PADZCG Female Unknown                   Not Hispanic or Latino\n",
       "3  5 TARGET-20-PAEAKL Female Black or African American Not Hispanic or Latino\n",
       "4  7 TARGET-20-PAEDKB Male   White                     Not Hispanic or Latino\n",
       "5  8 TARGET-20-PAEERJ Female White                     Not Hispanic or Latino\n",
       "6 10 TARGET-20-PAEFGR Female White                     Not Hispanic or Latino\n",
       "  Age.at.Diagnosis.in.Days First.Event Event.Free.Survival.Time.in.Days\n",
       "1 2455                     Relapse     714                             \n",
       "2 5325                     Relapse     314                             \n",
       "3 5218                     Relapse     134                             \n",
       "4  815                     Relapse     419                             \n",
       "5 5082                     Relapse     259                             \n",
       "6  549                     Relapse     497                             \n",
       "  Vital.Status Overall.Survival.Time.in.Days ... access state   \n",
       "1 Alive         721                          ... open   released\n",
       "2 Dead          536                          ... open   released\n",
       "3 Dead          163                          ... open   released\n",
       "4 Dead          800                          ... open   released\n",
       "5 Dead          373                          ... open   released\n",
       "6 Alive        4022                          ... open   released\n",
       "  data_category           type            experimental_strategy\n",
       "1 Transcriptome Profiling gene_expression RNA-Seq              \n",
       "2 Transcriptome Profiling gene_expression RNA-Seq              \n",
       "3 Transcriptome Profiling gene_expression RNA-Seq              \n",
       "4 Transcriptome Profiling gene_expression RNA-Seq              \n",
       "5 Transcriptome Profiling gene_expression RNA-Seq              \n",
       "6 Transcriptome Profiling gene_expression RNA-Seq              \n",
       "  project.project_id entity_id                           \n",
       "1 TARGET-AML         c78f2949-4050-5f14-a401-beddf3ff9f61\n",
       "2 TARGET-AML         1507ac24-8ba2-5e57-a05a-86b5157c8377\n",
       "3 TARGET-AML         9d464669-4fa5-5c48-b1b0-f452bee4682e\n",
       "4 TARGET-AML         dcc4d9f2-0f77-58ce-8064-f6e12bffa5e7\n",
       "5 TARGET-AML         d3e1f044-8745-56e9-a05e-dc95d94dd899\n",
       "6 TARGET-AML         4af4a340-d9c2-5a84-8f1b-c46fdc831ea0\n",
       "  case_id                              entity_submitter_id      entity_type\n",
       "1 1e5c8323-383d-51a0-9199-1b9504b29c7e TARGET-20-PABLDZ-04A-01R aliquot    \n",
       "2 c3670ebd-1d43-5491-ac10-a158e12c560b TARGET-20-PADZCG-09A-02R aliquot    \n",
       "3 55d8f714-482f-50cf-8a23-7d187c31f923 TARGET-20-PAEAKL-09A-03R aliquot    \n",
       "4 84200a3f-e28c-5352-a320-30a43985e8c9 TARGET-20-PAEDKB-04A-01R aliquot    \n",
       "5 665b2a36-1c80-5a53-824f-dda03c2a0d49 TARGET-20-PAEERJ-04A-01R aliquot    \n",
       "6 edc9d8d7-af53-5e63-aa24-ceeccc24e8b6 TARGET-20-PAEFGR-09A-02R aliquot    "
      ]
     },
     "metadata": {},
     "output_type": "display_data"
    },
    {
     "data": {
      "text/html": [
       "<table>\n",
       "<thead><tr><th></th><th scope=col>TARGET.20.PABLDZ.04A.01R</th><th scope=col>TARGET.20.PADZCG.09A.02R</th><th scope=col>TARGET.20.PAEAKL.09A.03R</th><th scope=col>TARGET.20.PAEDKB.04A.01R</th><th scope=col>TARGET.20.PAEERJ.09A.01R</th><th scope=col>TARGET.20.PAEFGR.09A.02R</th><th scope=col>TARGET.20.PAEFGT.03A.01R</th><th scope=col>TARGET.20.PAEIKD.04A.01R</th><th scope=col>TARGET.20.PAKIWK.04A.01R</th><th scope=col>TARGET.20.PAKIYW.09A.01R</th><th scope=col>...</th><th scope=col>TARGET.20.PASWPT.09A.01R</th><th scope=col>TARGET.20.PASXNR.04A.01R</th><th scope=col>TARGET.20.PASXYG.09A.05R</th><th scope=col>TARGET.20.PASYJI.04A.02R</th><th scope=col>TARGET.20.PASZLJ.09A.01R</th><th scope=col>TARGET.20.PATDHA.09A.01R</th><th scope=col>TARGET.20.PATDNN.04A.02R</th><th scope=col>TARGET.20.PATELT.03A.05R</th><th scope=col>TARGET.20.PATIAK.09A.01R</th><th scope=col>TARGET.20.PATJHJ.40A.01R</th></tr></thead>\n",
       "<tbody>\n",
       "\t<tr><th scope=row>ENSG00000000003.13</th><td>    6</td><td>   46</td><td>   24</td><td>   38</td><td>   73</td><td>    6</td><td>   61</td><td>   12</td><td>   47</td><td>   25</td><td>...  </td><td>   19</td><td>   26</td><td>    9</td><td>   34</td><td>    8</td><td>    1</td><td>    4</td><td>    4</td><td>    6</td><td>    1</td></tr>\n",
       "\t<tr><th scope=row>ENSG00000000971.14</th><td>    0</td><td>  856</td><td>   78</td><td>   25</td><td>  949</td><td>    0</td><td>  135</td><td>   35</td><td>  117</td><td>    5</td><td>...  </td><td>   69</td><td>   69</td><td>   23</td><td>   40</td><td>   14</td><td>   14</td><td>    8</td><td>   29</td><td>    7</td><td>    0</td></tr>\n",
       "\t<tr><th scope=row>ENSG00000001561.6</th><td>  753</td><td> 1979</td><td>  157</td><td> 3076</td><td> 6717</td><td>  194</td><td> 2257</td><td>  783</td><td> 2870</td><td>  766</td><td>...  </td><td> 2367</td><td> 1189</td><td> 1522</td><td> 5121</td><td>  835</td><td> 2136</td><td>  886</td><td>  894</td><td>  265</td><td>   36</td></tr>\n",
       "\t<tr><th scope=row>ENSG00000002586.16</th><td>12413</td><td>21574</td><td>33173</td><td>11920</td><td>40704</td><td>22984</td><td>17638</td><td>51840</td><td>14396</td><td>24358</td><td>...  </td><td>33645</td><td>19117</td><td>33918</td><td>29158</td><td>21308</td><td>65577</td><td>67318</td><td>57626</td><td>55399</td><td>20447</td></tr>\n",
       "\t<tr><th scope=row>ENSG00000002933.6</th><td>   73</td><td>  317</td><td> 1001</td><td>  612</td><td>   60</td><td>   76</td><td>    7</td><td>  502</td><td>  421</td><td> 1813</td><td>...  </td><td> 1722</td><td>  302</td><td>   65</td><td>  322</td><td>    4</td><td>14604</td><td>   77</td><td>  650</td><td> 1263</td><td>    3</td></tr>\n",
       "\t<tr><th scope=row>ENSG00000003436.13</th><td>11768</td><td> 1653</td><td>   86</td><td>  395</td><td> 6238</td><td> 7546</td><td> 2728</td><td>  240</td><td> 3867</td><td>  590</td><td>...  </td><td> 8513</td><td> 6452</td><td>10859</td><td> 7589</td><td>  709</td><td>10503</td><td>  238</td><td> 2303</td><td> 5530</td><td>   43</td></tr>\n",
       "</tbody>\n",
       "</table>\n"
      ],
      "text/latex": [
       "\\begin{tabular}{r|llllllllllllllllllllllllllllllllllllllllllllllllllllllllllllllllllllllllllllllllllllllllllllllllllllllllllllllllllllllllllllllllllllllllllllllllllll}\n",
       "  & TARGET.20.PABLDZ.04A.01R & TARGET.20.PADZCG.09A.02R & TARGET.20.PAEAKL.09A.03R & TARGET.20.PAEDKB.04A.01R & TARGET.20.PAEERJ.09A.01R & TARGET.20.PAEFGR.09A.02R & TARGET.20.PAEFGT.03A.01R & TARGET.20.PAEIKD.04A.01R & TARGET.20.PAKIWK.04A.01R & TARGET.20.PAKIYW.09A.01R & ... & TARGET.20.PASWPT.09A.01R & TARGET.20.PASXNR.04A.01R & TARGET.20.PASXYG.09A.05R & TARGET.20.PASYJI.04A.02R & TARGET.20.PASZLJ.09A.01R & TARGET.20.PATDHA.09A.01R & TARGET.20.PATDNN.04A.02R & TARGET.20.PATELT.03A.05R & TARGET.20.PATIAK.09A.01R & TARGET.20.PATJHJ.40A.01R\\\\\n",
       "\\hline\n",
       "\tENSG00000000003.13 &     6 &    46 &    24 &    38 &    73 &     6 &    61 &    12 &    47 &    25 & ...   &    19 &    26 &     9 &    34 &     8 &     1 &     4 &     4 &     6 &     1\\\\\n",
       "\tENSG00000000971.14 &     0 &   856 &    78 &    25 &   949 &     0 &   135 &    35 &   117 &     5 & ...   &    69 &    69 &    23 &    40 &    14 &    14 &     8 &    29 &     7 &     0\\\\\n",
       "\tENSG00000001561.6 &   753 &  1979 &   157 &  3076 &  6717 &   194 &  2257 &   783 &  2870 &   766 & ...   &  2367 &  1189 &  1522 &  5121 &   835 &  2136 &   886 &   894 &   265 &    36\\\\\n",
       "\tENSG00000002586.16 & 12413 & 21574 & 33173 & 11920 & 40704 & 22984 & 17638 & 51840 & 14396 & 24358 & ...   & 33645 & 19117 & 33918 & 29158 & 21308 & 65577 & 67318 & 57626 & 55399 & 20447\\\\\n",
       "\tENSG00000002933.6 &    73 &   317 &  1001 &   612 &    60 &    76 &     7 &   502 &   421 &  1813 & ...   &  1722 &   302 &    65 &   322 &     4 & 14604 &    77 &   650 &  1263 &     3\\\\\n",
       "\tENSG00000003436.13 & 11768 &  1653 &    86 &   395 &  6238 &  7546 &  2728 &   240 &  3867 &   590 & ...   &  8513 &  6452 & 10859 &  7589 &   709 & 10503 &   238 &  2303 &  5530 &    43\\\\\n",
       "\\end{tabular}\n"
      ],
      "text/markdown": [
       "\n",
       "| <!--/--> | TARGET.20.PABLDZ.04A.01R | TARGET.20.PADZCG.09A.02R | TARGET.20.PAEAKL.09A.03R | TARGET.20.PAEDKB.04A.01R | TARGET.20.PAEERJ.09A.01R | TARGET.20.PAEFGR.09A.02R | TARGET.20.PAEFGT.03A.01R | TARGET.20.PAEIKD.04A.01R | TARGET.20.PAKIWK.04A.01R | TARGET.20.PAKIYW.09A.01R | ... | TARGET.20.PASWPT.09A.01R | TARGET.20.PASXNR.04A.01R | TARGET.20.PASXYG.09A.05R | TARGET.20.PASYJI.04A.02R | TARGET.20.PASZLJ.09A.01R | TARGET.20.PATDHA.09A.01R | TARGET.20.PATDNN.04A.02R | TARGET.20.PATELT.03A.05R | TARGET.20.PATIAK.09A.01R | TARGET.20.PATJHJ.40A.01R |\n",
       "|---|---|---|---|---|---|---|---|---|---|---|---|---|---|---|---|---|---|---|---|---|---|\n",
       "| ENSG00000000003.13 |     6 |    46 |    24 |    38 |    73 |     6 |    61 |    12 |    47 |    25 | ...   |    19 |    26 |     9 |    34 |     8 |     1 |     4 |     4 |     6 |     1 |\n",
       "| ENSG00000000971.14 |     0 |   856 |    78 |    25 |   949 |     0 |   135 |    35 |   117 |     5 | ...   |    69 |    69 |    23 |    40 |    14 |    14 |     8 |    29 |     7 |     0 |\n",
       "| ENSG00000001561.6 |   753 |  1979 |   157 |  3076 |  6717 |   194 |  2257 |   783 |  2870 |   766 | ...   |  2367 |  1189 |  1522 |  5121 |   835 |  2136 |   886 |   894 |   265 |    36 |\n",
       "| ENSG00000002586.16 | 12413 | 21574 | 33173 | 11920 | 40704 | 22984 | 17638 | 51840 | 14396 | 24358 | ...   | 33645 | 19117 | 33918 | 29158 | 21308 | 65577 | 67318 | 57626 | 55399 | 20447 |\n",
       "| ENSG00000002933.6 |    73 |   317 |  1001 |   612 |    60 |    76 |     7 |   502 |   421 |  1813 | ...   |  1722 |   302 |    65 |   322 |     4 | 14604 |    77 |   650 |  1263 |     3 |\n",
       "| ENSG00000003436.13 | 11768 |  1653 |    86 |   395 |  6238 |  7546 |  2728 |   240 |  3867 |   590 | ...   |  8513 |  6452 | 10859 |  7589 |   709 | 10503 |   238 |  2303 |  5530 |    43 |\n",
       "\n"
      ],
      "text/plain": [
       "                   TARGET.20.PABLDZ.04A.01R TARGET.20.PADZCG.09A.02R\n",
       "ENSG00000000003.13     6                       46                   \n",
       "ENSG00000000971.14     0                      856                   \n",
       "ENSG00000001561.6    753                     1979                   \n",
       "ENSG00000002586.16 12413                    21574                   \n",
       "ENSG00000002933.6     73                      317                   \n",
       "ENSG00000003436.13 11768                     1653                   \n",
       "                   TARGET.20.PAEAKL.09A.03R TARGET.20.PAEDKB.04A.01R\n",
       "ENSG00000000003.13    24                       38                   \n",
       "ENSG00000000971.14    78                       25                   \n",
       "ENSG00000001561.6    157                     3076                   \n",
       "ENSG00000002586.16 33173                    11920                   \n",
       "ENSG00000002933.6   1001                      612                   \n",
       "ENSG00000003436.13    86                      395                   \n",
       "                   TARGET.20.PAEERJ.09A.01R TARGET.20.PAEFGR.09A.02R\n",
       "ENSG00000000003.13    73                        6                   \n",
       "ENSG00000000971.14   949                        0                   \n",
       "ENSG00000001561.6   6717                      194                   \n",
       "ENSG00000002586.16 40704                    22984                   \n",
       "ENSG00000002933.6     60                       76                   \n",
       "ENSG00000003436.13  6238                     7546                   \n",
       "                   TARGET.20.PAEFGT.03A.01R TARGET.20.PAEIKD.04A.01R\n",
       "ENSG00000000003.13    61                       12                   \n",
       "ENSG00000000971.14   135                       35                   \n",
       "ENSG00000001561.6   2257                      783                   \n",
       "ENSG00000002586.16 17638                    51840                   \n",
       "ENSG00000002933.6      7                      502                   \n",
       "ENSG00000003436.13  2728                      240                   \n",
       "                   TARGET.20.PAKIWK.04A.01R TARGET.20.PAKIYW.09A.01R ...\n",
       "ENSG00000000003.13    47                       25                    ...\n",
       "ENSG00000000971.14   117                        5                    ...\n",
       "ENSG00000001561.6   2870                      766                    ...\n",
       "ENSG00000002586.16 14396                    24358                    ...\n",
       "ENSG00000002933.6    421                     1813                    ...\n",
       "ENSG00000003436.13  3867                      590                    ...\n",
       "                   TARGET.20.PASWPT.09A.01R TARGET.20.PASXNR.04A.01R\n",
       "ENSG00000000003.13    19                       26                   \n",
       "ENSG00000000971.14    69                       69                   \n",
       "ENSG00000001561.6   2367                     1189                   \n",
       "ENSG00000002586.16 33645                    19117                   \n",
       "ENSG00000002933.6   1722                      302                   \n",
       "ENSG00000003436.13  8513                     6452                   \n",
       "                   TARGET.20.PASXYG.09A.05R TARGET.20.PASYJI.04A.02R\n",
       "ENSG00000000003.13     9                       34                   \n",
       "ENSG00000000971.14    23                       40                   \n",
       "ENSG00000001561.6   1522                     5121                   \n",
       "ENSG00000002586.16 33918                    29158                   \n",
       "ENSG00000002933.6     65                      322                   \n",
       "ENSG00000003436.13 10859                     7589                   \n",
       "                   TARGET.20.PASZLJ.09A.01R TARGET.20.PATDHA.09A.01R\n",
       "ENSG00000000003.13     8                        1                   \n",
       "ENSG00000000971.14    14                       14                   \n",
       "ENSG00000001561.6    835                     2136                   \n",
       "ENSG00000002586.16 21308                    65577                   \n",
       "ENSG00000002933.6      4                    14604                   \n",
       "ENSG00000003436.13   709                    10503                   \n",
       "                   TARGET.20.PATDNN.04A.02R TARGET.20.PATELT.03A.05R\n",
       "ENSG00000000003.13     4                        4                   \n",
       "ENSG00000000971.14     8                       29                   \n",
       "ENSG00000001561.6    886                      894                   \n",
       "ENSG00000002586.16 67318                    57626                   \n",
       "ENSG00000002933.6     77                      650                   \n",
       "ENSG00000003436.13   238                     2303                   \n",
       "                   TARGET.20.PATIAK.09A.01R TARGET.20.PATJHJ.40A.01R\n",
       "ENSG00000000003.13     6                        1                   \n",
       "ENSG00000000971.14     7                        0                   \n",
       "ENSG00000001561.6    265                       36                   \n",
       "ENSG00000002586.16 55399                    20447                   \n",
       "ENSG00000002933.6   1263                        3                   \n",
       "ENSG00000003436.13  5530                       43                   "
      ]
     },
     "metadata": {},
     "output_type": "display_data"
    },
    {
     "data": {
      "text/html": [
       "<table>\n",
       "<thead><tr><th></th><th scope=col>TARGET.20.PABLDZ.04A.01R</th><th scope=col>TARGET.20.PADZCG.09A.02R</th><th scope=col>TARGET.20.PAEAKL.09A.03R</th><th scope=col>TARGET.20.PAEDKB.04A.01R</th><th scope=col>TARGET.20.PAEERJ.09A.01R</th><th scope=col>TARGET.20.PAEFGR.09A.02R</th><th scope=col>TARGET.20.PAEFGT.03A.01R</th><th scope=col>TARGET.20.PAEIKD.04A.01R</th><th scope=col>TARGET.20.PAKIWK.04A.01R</th><th scope=col>TARGET.20.PAKIYW.09A.01R</th><th scope=col>...</th><th scope=col>TARGET.20.PASWPT.09A.01R</th><th scope=col>TARGET.20.PASXNR.04A.01R</th><th scope=col>TARGET.20.PASXYG.09A.05R</th><th scope=col>TARGET.20.PASYJI.04A.02R</th><th scope=col>TARGET.20.PASZLJ.09A.01R</th><th scope=col>TARGET.20.PATDHA.09A.01R</th><th scope=col>TARGET.20.PATDNN.04A.02R</th><th scope=col>TARGET.20.PATELT.03A.05R</th><th scope=col>TARGET.20.PATIAK.09A.01R</th><th scope=col>TARGET.20.PATJHJ.40A.01R</th></tr></thead>\n",
       "<tbody>\n",
       "\t<tr><th scope=row>ENSG00000000003.13</th><td>   6 </td><td>   46</td><td>   24</td><td>  38 </td><td>  73 </td><td>   6 </td><td>  61 </td><td>  12 </td><td>  47 </td><td>   25</td><td>...  </td><td>  19 </td><td>  26 </td><td>   9 </td><td>   34</td><td>   8 </td><td>   1 </td><td>    4</td><td>   4 </td><td>   6 </td><td>   1 </td></tr>\n",
       "\t<tr><th scope=row>ENSG00000000005.5</th><td>   1 </td><td>    1</td><td>    3</td><td>   1 </td><td>   0 </td><td>   0 </td><td>   0 </td><td>   0 </td><td>   0 </td><td>    0</td><td>...  </td><td>   1 </td><td>   0 </td><td>   0 </td><td>    4</td><td>   0 </td><td>   0 </td><td>    0</td><td>   0 </td><td>   0 </td><td>   0 </td></tr>\n",
       "\t<tr><th scope=row>ENSG00000000419.11</th><td>2609 </td><td> 2028</td><td> 1666</td><td>5624 </td><td>2265 </td><td>1926 </td><td>1606 </td><td>1570 </td><td>4357 </td><td> 1717</td><td>...  </td><td>3315 </td><td>2376 </td><td>2784 </td><td> 4548</td><td>3234 </td><td>3403 </td><td> 2186</td><td>2301 </td><td>2741 </td><td>1382 </td></tr>\n",
       "\t<tr><th scope=row>ENSG00000000457.12</th><td> 507 </td><td> 2126</td><td>  337</td><td>1017 </td><td>1460 </td><td> 380 </td><td> 335 </td><td> 317 </td><td> 478 </td><td>  433</td><td>...  </td><td>1189 </td><td> 316 </td><td> 742 </td><td> 1342</td><td>1381 </td><td> 393 </td><td>  548</td><td>1437 </td><td> 405 </td><td> 235 </td></tr>\n",
       "\t<tr><th scope=row>ENSG00000000460.15</th><td>  57 </td><td>  847</td><td>  567</td><td> 331 </td><td> 307 </td><td>  77 </td><td>  77 </td><td> 497 </td><td> 861 </td><td>  486</td><td>...  </td><td> 296 </td><td> 526 </td><td> 488 </td><td>  337</td><td>1083 </td><td> 329 </td><td>  297</td><td> 709 </td><td> 411 </td><td> 273 </td></tr>\n",
       "\t<tr><th scope=row>ENSG00000000938.11</th><td> 883 </td><td>13657</td><td>33405</td><td>8003 </td><td>6268 </td><td>3406 </td><td> 816 </td><td>5721 </td><td>3042 </td><td>22050</td><td>...  </td><td>3300 </td><td>6469 </td><td> 662 </td><td>19974</td><td>3469 </td><td> 943 </td><td>23320</td><td>2919 </td><td>7042 </td><td> 636 </td></tr>\n",
       "</tbody>\n",
       "</table>\n"
      ],
      "text/latex": [
       "\\begin{tabular}{r|llllllllllllllllllllllllllllllllllllllllllllllllllllllllllllllllllllllllllllllllllllllllllllllllllllllllllllllllllllllllllllllllllllllllllllllllllll}\n",
       "  & TARGET.20.PABLDZ.04A.01R & TARGET.20.PADZCG.09A.02R & TARGET.20.PAEAKL.09A.03R & TARGET.20.PAEDKB.04A.01R & TARGET.20.PAEERJ.09A.01R & TARGET.20.PAEFGR.09A.02R & TARGET.20.PAEFGT.03A.01R & TARGET.20.PAEIKD.04A.01R & TARGET.20.PAKIWK.04A.01R & TARGET.20.PAKIYW.09A.01R & ... & TARGET.20.PASWPT.09A.01R & TARGET.20.PASXNR.04A.01R & TARGET.20.PASXYG.09A.05R & TARGET.20.PASYJI.04A.02R & TARGET.20.PASZLJ.09A.01R & TARGET.20.PATDHA.09A.01R & TARGET.20.PATDNN.04A.02R & TARGET.20.PATELT.03A.05R & TARGET.20.PATIAK.09A.01R & TARGET.20.PATJHJ.40A.01R\\\\\n",
       "\\hline\n",
       "\tENSG00000000003.13 &    6  &    46 &    24 &   38  &   73  &    6  &   61  &   12  &   47  &    25 & ...   &   19  &   26  &    9  &    34 &    8  &    1  &     4 &    4  &    6  &    1 \\\\\n",
       "\tENSG00000000005.5 &    1  &     1 &     3 &    1  &    0  &    0  &    0  &    0  &    0  &     0 & ...   &    1  &    0  &    0  &     4 &    0  &    0  &     0 &    0  &    0  &    0 \\\\\n",
       "\tENSG00000000419.11 & 2609  &  2028 &  1666 & 5624  & 2265  & 1926  & 1606  & 1570  & 4357  &  1717 & ...   & 3315  & 2376  & 2784  &  4548 & 3234  & 3403  &  2186 & 2301  & 2741  & 1382 \\\\\n",
       "\tENSG00000000457.12 &  507  &  2126 &   337 & 1017  & 1460  &  380  &  335  &  317  &  478  &   433 & ...   & 1189  &  316  &  742  &  1342 & 1381  &  393  &   548 & 1437  &  405  &  235 \\\\\n",
       "\tENSG00000000460.15 &   57  &   847 &   567 &  331  &  307  &   77  &   77  &  497  &  861  &   486 & ...   &  296  &  526  &  488  &   337 & 1083  &  329  &   297 &  709  &  411  &  273 \\\\\n",
       "\tENSG00000000938.11 &  883  & 13657 & 33405 & 8003  & 6268  & 3406  &  816  & 5721  & 3042  & 22050 & ...   & 3300  & 6469  &  662  & 19974 & 3469  &  943  & 23320 & 2919  & 7042  &  636 \\\\\n",
       "\\end{tabular}\n"
      ],
      "text/markdown": [
       "\n",
       "| <!--/--> | TARGET.20.PABLDZ.04A.01R | TARGET.20.PADZCG.09A.02R | TARGET.20.PAEAKL.09A.03R | TARGET.20.PAEDKB.04A.01R | TARGET.20.PAEERJ.09A.01R | TARGET.20.PAEFGR.09A.02R | TARGET.20.PAEFGT.03A.01R | TARGET.20.PAEIKD.04A.01R | TARGET.20.PAKIWK.04A.01R | TARGET.20.PAKIYW.09A.01R | ... | TARGET.20.PASWPT.09A.01R | TARGET.20.PASXNR.04A.01R | TARGET.20.PASXYG.09A.05R | TARGET.20.PASYJI.04A.02R | TARGET.20.PASZLJ.09A.01R | TARGET.20.PATDHA.09A.01R | TARGET.20.PATDNN.04A.02R | TARGET.20.PATELT.03A.05R | TARGET.20.PATIAK.09A.01R | TARGET.20.PATJHJ.40A.01R |\n",
       "|---|---|---|---|---|---|---|---|---|---|---|---|---|---|---|---|---|---|---|---|---|---|\n",
       "| ENSG00000000003.13 |    6  |    46 |    24 |   38  |   73  |    6  |   61  |   12  |   47  |    25 | ...   |   19  |   26  |    9  |    34 |    8  |    1  |     4 |    4  |    6  |    1  |\n",
       "| ENSG00000000005.5 |    1  |     1 |     3 |    1  |    0  |    0  |    0  |    0  |    0  |     0 | ...   |    1  |    0  |    0  |     4 |    0  |    0  |     0 |    0  |    0  |    0  |\n",
       "| ENSG00000000419.11 | 2609  |  2028 |  1666 | 5624  | 2265  | 1926  | 1606  | 1570  | 4357  |  1717 | ...   | 3315  | 2376  | 2784  |  4548 | 3234  | 3403  |  2186 | 2301  | 2741  | 1382  |\n",
       "| ENSG00000000457.12 |  507  |  2126 |   337 | 1017  | 1460  |  380  |  335  |  317  |  478  |   433 | ...   | 1189  |  316  |  742  |  1342 | 1381  |  393  |   548 | 1437  |  405  |  235  |\n",
       "| ENSG00000000460.15 |   57  |   847 |   567 |  331  |  307  |   77  |   77  |  497  |  861  |   486 | ...   |  296  |  526  |  488  |   337 | 1083  |  329  |   297 |  709  |  411  |  273  |\n",
       "| ENSG00000000938.11 |  883  | 13657 | 33405 | 8003  | 6268  | 3406  |  816  | 5721  | 3042  | 22050 | ...   | 3300  | 6469  |  662  | 19974 | 3469  |  943  | 23320 | 2919  | 7042  |  636  |\n",
       "\n"
      ],
      "text/plain": [
       "                   TARGET.20.PABLDZ.04A.01R TARGET.20.PADZCG.09A.02R\n",
       "ENSG00000000003.13    6                        46                   \n",
       "ENSG00000000005.5     1                         1                   \n",
       "ENSG00000000419.11 2609                      2028                   \n",
       "ENSG00000000457.12  507                      2126                   \n",
       "ENSG00000000460.15   57                       847                   \n",
       "ENSG00000000938.11  883                     13657                   \n",
       "                   TARGET.20.PAEAKL.09A.03R TARGET.20.PAEDKB.04A.01R\n",
       "ENSG00000000003.13    24                      38                    \n",
       "ENSG00000000005.5      3                       1                    \n",
       "ENSG00000000419.11  1666                    5624                    \n",
       "ENSG00000000457.12   337                    1017                    \n",
       "ENSG00000000460.15   567                     331                    \n",
       "ENSG00000000938.11 33405                    8003                    \n",
       "                   TARGET.20.PAEERJ.09A.01R TARGET.20.PAEFGR.09A.02R\n",
       "ENSG00000000003.13   73                        6                    \n",
       "ENSG00000000005.5     0                        0                    \n",
       "ENSG00000000419.11 2265                     1926                    \n",
       "ENSG00000000457.12 1460                      380                    \n",
       "ENSG00000000460.15  307                       77                    \n",
       "ENSG00000000938.11 6268                     3406                    \n",
       "                   TARGET.20.PAEFGT.03A.01R TARGET.20.PAEIKD.04A.01R\n",
       "ENSG00000000003.13   61                       12                    \n",
       "ENSG00000000005.5     0                        0                    \n",
       "ENSG00000000419.11 1606                     1570                    \n",
       "ENSG00000000457.12  335                      317                    \n",
       "ENSG00000000460.15   77                      497                    \n",
       "ENSG00000000938.11  816                     5721                    \n",
       "                   TARGET.20.PAKIWK.04A.01R TARGET.20.PAKIYW.09A.01R ...\n",
       "ENSG00000000003.13   47                        25                    ...\n",
       "ENSG00000000005.5     0                         0                    ...\n",
       "ENSG00000000419.11 4357                      1717                    ...\n",
       "ENSG00000000457.12  478                       433                    ...\n",
       "ENSG00000000460.15  861                       486                    ...\n",
       "ENSG00000000938.11 3042                     22050                    ...\n",
       "                   TARGET.20.PASWPT.09A.01R TARGET.20.PASXNR.04A.01R\n",
       "ENSG00000000003.13   19                       26                    \n",
       "ENSG00000000005.5     1                        0                    \n",
       "ENSG00000000419.11 3315                     2376                    \n",
       "ENSG00000000457.12 1189                      316                    \n",
       "ENSG00000000460.15  296                      526                    \n",
       "ENSG00000000938.11 3300                     6469                    \n",
       "                   TARGET.20.PASXYG.09A.05R TARGET.20.PASYJI.04A.02R\n",
       "ENSG00000000003.13    9                        34                   \n",
       "ENSG00000000005.5     0                         4                   \n",
       "ENSG00000000419.11 2784                      4548                   \n",
       "ENSG00000000457.12  742                      1342                   \n",
       "ENSG00000000460.15  488                       337                   \n",
       "ENSG00000000938.11  662                     19974                   \n",
       "                   TARGET.20.PASZLJ.09A.01R TARGET.20.PATDHA.09A.01R\n",
       "ENSG00000000003.13    8                        1                    \n",
       "ENSG00000000005.5     0                        0                    \n",
       "ENSG00000000419.11 3234                     3403                    \n",
       "ENSG00000000457.12 1381                      393                    \n",
       "ENSG00000000460.15 1083                      329                    \n",
       "ENSG00000000938.11 3469                      943                    \n",
       "                   TARGET.20.PATDNN.04A.02R TARGET.20.PATELT.03A.05R\n",
       "ENSG00000000003.13     4                       4                    \n",
       "ENSG00000000005.5      0                       0                    \n",
       "ENSG00000000419.11  2186                    2301                    \n",
       "ENSG00000000457.12   548                    1437                    \n",
       "ENSG00000000460.15   297                     709                    \n",
       "ENSG00000000938.11 23320                    2919                    \n",
       "                   TARGET.20.PATIAK.09A.01R TARGET.20.PATJHJ.40A.01R\n",
       "ENSG00000000003.13    6                        1                    \n",
       "ENSG00000000005.5     0                        0                    \n",
       "ENSG00000000419.11 2741                     1382                    \n",
       "ENSG00000000457.12  405                      235                    \n",
       "ENSG00000000460.15  411                      273                    \n",
       "ENSG00000000938.11 7042                      636                    "
      ]
     },
     "metadata": {},
     "output_type": "display_data"
    }
   ],
   "source": [
    "head(aml.clinical)\n",
    "head(expn.de)\n",
    "head(expn)"
   ]
  },
  {
   "cell_type": "code",
   "execution_count": 3,
   "metadata": {},
   "outputs": [],
   "source": [
    "table.accuracy <- data.frame()"
   ]
  },
  {
   "cell_type": "markdown",
   "metadata": {},
   "source": [
    "# Decision Tree"
   ]
  },
  {
   "cell_type": "code",
   "execution_count": 11,
   "metadata": {},
   "outputs": [
    {
     "ename": "ERROR",
     "evalue": "Error in model.frame.default(formula = aml.clinical$Risk.group[-test.indices] ~ : variable lengths differ (found for 'ENSG00000000003.13')\n",
     "output_type": "error",
     "traceback": [
      "Error in model.frame.default(formula = aml.clinical$Risk.group[-test.indices] ~ : variable lengths differ (found for 'ENSG00000000003.13')\nTraceback:\n",
      "1. rpart(aml.clinical$Risk.group[-test.indices] ~ ., data = as.data.frame(t(train.set)))",
      "2. eval.parent(temp)",
      "3. eval(expr, p)",
      "4. eval(expr, p)",
      "5. stats::model.frame(formula = aml.clinical$Risk.group[-test.indices] ~ \n .     ., data = as.data.frame(t(train.set)), na.action = function (x) \n . {\n .     Terms <- attr(x, \"terms\")\n .     if (!is.null(Terms)) \n .         yvar <- attr(Terms, \"response\")\n .     else yvar <- 0L\n .     if (yvar == 0L) {\n .         xmiss <- is.na(x)\n .         keep <- (xmiss %*% rep(1, ncol(xmiss))) < ncol(xmiss)\n .     }\n .     else {\n .         xmiss <- is.na(x[-yvar])\n .         ymiss <- is.na(x[[yvar]])\n .         keep <- if (is.matrix(ymiss)) \n .             ((xmiss %*% rep(1, ncol(xmiss))) < ncol(xmiss)) & \n .                 ((ymiss %*% rep(1, ncol(ymiss))) == 0)\n .         else ((xmiss %*% rep(1, ncol(xmiss))) < ncol(xmiss)) & \n .             !ymiss\n .     }\n .     if (all(keep)) \n .         x\n .     else {\n .         temp <- seq(keep)[!keep]\n .         names(temp) <- row.names(x)[!keep]\n .         class(temp) <- c(\"na.rpart\", \"omit\")\n .         structure(x[keep, , drop = FALSE], na.action = temp)\n .     }\n . })",
      "6. model.frame.default(formula = aml.clinical$Risk.group[-test.indices] ~ \n .     ., data = as.data.frame(t(train.set)), na.action = function (x) \n . {\n .     Terms <- attr(x, \"terms\")\n .     if (!is.null(Terms)) \n .         yvar <- attr(Terms, \"response\")\n .     else yvar <- 0L\n .     if (yvar == 0L) {\n .         xmiss <- is.na(x)\n .         keep <- (xmiss %*% rep(1, ncol(xmiss))) < ncol(xmiss)\n .     }\n .     else {\n .         xmiss <- is.na(x[-yvar])\n .         ymiss <- is.na(x[[yvar]])\n .         keep <- if (is.matrix(ymiss)) \n .             ((xmiss %*% rep(1, ncol(xmiss))) < ncol(xmiss)) & \n .                 ((ymiss %*% rep(1, ncol(ymiss))) == 0)\n .         else ((xmiss %*% rep(1, ncol(xmiss))) < ncol(xmiss)) & \n .             !ymiss\n .     }\n .     if (all(keep)) \n .         x\n .     else {\n .         temp <- seq(keep)[!keep]\n .         names(temp) <- row.names(x)[!keep]\n .         class(temp) <- c(\"na.rpart\", \"omit\")\n .         structure(x[keep, , drop = FALSE], na.action = temp)\n .     }\n . })"
     ]
    }
   ],
   "source": [
    "library(rpart)\n",
    "library(rpart.plot)\n",
    "# variable for iterating through fold\n",
    "multiple <- round(nrow(aml.clinical) / 10)\n",
    "for (col in 1:nrow(aml.clinical)) {\n",
    "    # create holder variable for total probabilities\n",
    "    total.probs <- vector(length=3)\n",
    "    for (i in 1:3) {\n",
    "        # create sample selection, set up fold probability storage vector\n",
    "        indices <- sample(seq_len(nrow(aml.clinical)), replace=F)\n",
    "        probs <- vector(length=10)\n",
    "        for (j in 0:9) {\n",
    "            # set up training and test set using given indices and fold number\n",
    "            test.indices <- indices[((multiple * j) + 1):min((multiple * (j+1)), nrow(aml.clinical))]\n",
    "            train.set <- expn.de[,-test.indices]\n",
    "            test.set <- expn.de[,test.indices]\n",
    "            \n",
    "            dt.fit <- rpart (aml.clinical$Risk.group[-test.indices] ~ ., data=as.data.frame(t(train.set)))\n",
    "            \n",
    "            pred <- predict(dt.fit, as.data.frame(t(test.set)), type=\"class\")\n",
    "            \n",
    "            # calculate percentage correct of test set\n",
    "            tbl <- table (pred, cl=aml.clinical$Risk.group[test.indices])\n",
    "            if (dim(tbl)[1] == 1) {\n",
    "                probs[j+1] <- tbl[1,1] / sum(tbl)\n",
    "            } else {\n",
    "                probs[j+1] <- (tbl[1,1] + tbl[2,2]) / sum(tbl)\n",
    "            }\n",
    "        }\n",
    "        # calculate fold probability average\n",
    "        total.probs[i] <- mean(probs)\n",
    "    }\n",
    "    # calculate total probability average\n",
    "    table.accuracy[col, \"dt.de\"] <- round(mean(total.probs) * 100, 2)\n",
    "}"
   ]
  },
  {
   "cell_type": "code",
   "execution_count": 9,
   "metadata": {},
   "outputs": [
    {
     "data": {
      "text/html": [
       "82.4559459459459"
      ],
      "text/latex": [
       "82.4559459459459"
      ],
      "text/markdown": [
       "82.4559459459459"
      ],
      "text/plain": [
       "[1] 82.45595"
      ]
     },
     "metadata": {},
     "output_type": "display_data"
    }
   ],
   "source": [
    "mean(table.accuracy$dt.de)"
   ]
  },
  {
   "cell_type": "code",
   "execution_count": null,
   "metadata": {},
   "outputs": [],
   "source": [
    "library(rpart)\n",
    "library(rpart.plot)\n",
    "# variable for iterating through fold\n",
    "multiple <- round(nrow(aml.clinical) / 10)\n",
    "for (col in 1:nrow(aml.clinical)) {\n",
    "    # create holder variable for total probabilities\n",
    "    total.probs <- vector(length=3)\n",
    "    for (i in 1:3) {\n",
    "        # create sample selection, set up fold probability storage vector\n",
    "        indices <- sample(seq_len(nrow(aml.clinical)), replace=F)\n",
    "        probs <- vector(length=10)\n",
    "        for (j in 0:9) {\n",
    "            # set up training and test set using given indices and fold number\n",
    "            test.indices <- indices[((multiple * j) + 1):min((multiple * (j+1)), nrow(aml.clinical))]\n",
    "            train.set <- expn.de[,-test.indices]\n",
    "            test.set <- expn.de[,test.indices]\n",
    "            \n",
    "            dt.fit <- rpart (aml.clinical$Risk.group[-test.indices] ~ ., data=as.data.frame(t(train.set)))\n",
    "            \n",
    "            pred <- predict(dt.fit, as.data.frame(t(test.set)), type=\"class\")\n",
    "            \n",
    "            # calculate percentage correct of test set\n",
    "            tbl <- table (pred, cl=aml.clinical$Risk.group[test.indices])\n",
    "            if (dim(tbl)[1] == 1) {\n",
    "                probs[j+1] <- tbl[1,1] / sum(tbl)\n",
    "            } else {\n",
    "                probs[j+1] <- (tbl[1,1] + tbl[2,2]) / sum(tbl)\n",
    "            }\n",
    "        }\n",
    "        # calculate fold probability average\n",
    "        total.probs[i] <- mean(probs)\n",
    "    }\n",
    "    # calculate total probability average\n",
    "    table.accuracy[col, \"dt.de\"] <- round(mean(total.probs) * 100, 2)\n",
    "}"
   ]
  },
  {
   "cell_type": "code",
   "execution_count": 10,
   "metadata": {},
   "outputs": [
    {
     "name": "stderr",
     "output_type": "stream",
     "text": [
      "Warning message:\n",
      "\"Bad 'data' field in model 'call' (expected a data.frame or a matrix).\n",
      "To silence this warning:\n",
      "    Call rpart.plot with roundint=FALSE,\n",
      "    or rebuild the rpart model with model=TRUE.\""
     ]
    },
    {
     "data": {
      "image/png": "[encoded data removed]",
      "text/plain": [
       "plot without title"
      ]
     },
     "metadata": {},
     "output_type": "display_data"
    }
   ],
   "source": [
    "library(rpart.plot)\n",
    "rpart.plot(dt.fit)"
   ]
  },
  {
   "cell_type": "code",
   "execution_count": null,
   "metadata": {},
   "outputs": [],
   "source": []
  }
 ],
 "metadata": {
  "kernelspec": {
   "display_name": "R",
   "language": "R",
   "name": "ir"
  },
  "language_info": {
   "codemirror_mode": "r",
   "file_extension": ".r",
   "mimetype": "text/x-r-source",
   "name": "R",
   "pygments_lexer": "r",
   "version": "3.5.2"
  }
 },
 "nbformat": 4,
 "nbformat_minor": 2
}
